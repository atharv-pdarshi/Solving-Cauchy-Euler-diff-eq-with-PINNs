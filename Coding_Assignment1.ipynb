{
 "cells": [
  {
   "cell_type": "markdown",
   "id": "a02a9fb9-7a0e-45b5-95e6-130c99395af8",
   "metadata": {},
   "source": [
    "# Solving the Cauchy-Euler Equation with a Neural Network in PyTorch\n",
    "\n",
    "## The Cauchy-Euler Equation\n",
    "\n",
    "The Cauchy-Euler equation (also known as the Euler-Cauchy equation) is a second-order linear homogeneous differential equation with variable coefficients. It has the general form:\n",
    "\n",
    "$$\n",
    "x^2 \\frac{d^2 y}{dx^2} + \\alpha x \\frac{dy}{dx} + \\beta y = 0\n",
    "$$\n",
    "\n",
    "## Approach\n",
    "\n",
    "Using a standard neural network to approximate the solution *y(x)* to the Cauchy-Euler equation. The network is trained on a dataset of (*x*, *y*) pairs, where *x* is the input and *y* is the corresponding solution. The Adam optimizer and the mean squared error (MSE) loss function are used to train the network.a y = 0"
   ]
  },
  {
   "cell_type": "code",
   "execution_count": 1,
   "id": "6d4c5895-16d5-40fd-9451-78ed633e810e",
   "metadata": {},
   "outputs": [],
   "source": [
    "import torch\n",
    "import torch.nn as nn\n",
    "from torch.utils.data import Dataset, DataLoader, random_split\n",
    "import torch.optim as optim\n",
    "import matplotlib.pyplot as plt\n",
    "import numpy as np\n",
    "from scipy.io import loadmat\n",
    "import matplotlib.pyplot as plt"
   ]
  },
  {
   "cell_type": "code",
   "execution_count": 2,
   "id": "c30ce706-ce15-43a0-96e5-9514c4538675",
   "metadata": {},
   "outputs": [
    {
     "name": "stdout",
     "output_type": "stream",
     "text": [
      "Using device: cpu\n"
     ]
    }
   ],
   "source": [
    "device = torch.device(\"cuda\" if torch.cuda.is_available() else \"cpu\")\n",
    "print(f\"Using device: {device}\")"
   ]
  },
  {
   "cell_type": "markdown",
   "id": "6264b024-5460-4abe-9cbf-83ba74e6bcf0",
   "metadata": {},
   "source": [
    "## Dataset Class\n",
    "Defining a custom dataset class called `CauchyEulerDataset` that inherits from `torch.utils.data.Dataset`. This class will handle loading and preprocessing of the data:\n",
    "- Loading the dataset from a `.mat` file.\n",
    "- Extracting `x` and `y` values.\n",
    "- Normalizing the `y` values using min-max scaling.\n"
   ]
  },
  {
   "cell_type": "code",
   "execution_count": 3,
   "id": "c3985559-6afa-4ddd-8c98-ebcf6785e676",
   "metadata": {},
   "outputs": [],
   "source": [
    "class CauchyEulerDataset(Dataset):\n",
    "    def __init__(self, data_path):\n",
    "        data = loadmat(data_path)\n",
    "        self.x = torch.tensor(data['data'][:, 0], dtype=torch.float32).to(device)\n",
    "        self.y = torch.tensor(data['data'][:, 1], dtype=torch.float32).to(device)\n",
    "\n",
    "        # Normalizing y values using min-max scaling (0 to 1)\n",
    "        self.y_min = self.y.min()\n",
    "        self.y_max = self.y.max()\n",
    "        self.y = (self.y - self.y_min) / (self.y_max - self.y_min)\n",
    "\n",
    "    def __len__(self):\n",
    "        return len(self.x)\n",
    "\n",
    "    def __getitem__(self, idx):\n",
    "        # Returning x and y values as a tuple\n",
    "        return self.x[idx].unsqueeze(0), self.y[idx].unsqueeze(0)"
   ]
  },
  {
   "cell_type": "markdown",
   "id": "94b51aa3-0794-435b-8403-e532cb197620",
   "metadata": {},
   "source": [
    "## Loading the Dataset\n",
    "In this cell, our dataset is being loaded using the `CauchyEulerDataset` class which was just defined. The dataset is split into training and testing sets (80% for training and 20% for testing)."
   ]
  },
  {
   "cell_type": "code",
   "execution_count": 4,
   "id": "d1f1039a-2a1c-492d-acb9-1fe46300097a",
   "metadata": {},
   "outputs": [],
   "source": [
    "data_path = 'cauchy_euler_dataset.mat' \n",
    "dataset = CauchyEulerDataset(data_path)\n",
    "\n",
    "# Splitting the dataset into training and testing sets (80% train, 20% test)\n",
    "train_size = int(0.8 * len(dataset))\n",
    "test_size = len(dataset) - train_size\n",
    "train_dataset, test_dataset = random_split(dataset, [train_size, test_size])"
   ]
  },
  {
   "cell_type": "markdown",
   "id": "07dcb142-d00f-4d19-a068-4eff5fe27d0c",
   "metadata": {},
   "source": [
    "## Creating DataLoaders\r\n",
    "Here, we create data loaders for both the training and testing datasets. Data loaders help in batching the data, shuffling, and parallel loading of data\r\n"
   ]
  },
  {
   "cell_type": "code",
   "execution_count": 5,
   "id": "fadc2e40-b144-48ad-86dc-c64b5f89e475",
   "metadata": {},
   "outputs": [
    {
     "name": "stdout",
     "output_type": "stream",
     "text": [
      "x_batch: tensor([[ 7.9883],\n",
      "        [12.9085],\n",
      "        [13.0081],\n",
      "        [19.5618],\n",
      "        [18.5259]]), y_batch: tensor([[0.1173],\n",
      "        [0.2169],\n",
      "        [0.2307],\n",
      "        [0.2846],\n",
      "        [0.0469]])\n"
     ]
    }
   ],
   "source": [
    "# Creating DataLoaders\n",
    "train_loader = DataLoader(train_dataset, batch_size=64, shuffle=True)\n",
    "test_loader = DataLoader(test_dataset, batch_size=64, shuffle=False)\n",
    "\n",
    "# Checking the data\n",
    "for x_batch, y_batch in train_loader:\n",
    "    print(f\"x_batch: {x_batch[:5]}, y_batch: {y_batch[:5]}\")\n",
    "    break  "
   ]
  },
  {
   "cell_type": "markdown",
   "id": "32d2ec23-bc3e-4afe-8a49-7b7e0aade51c",
   "metadata": {},
   "source": [
    "## Defining the Neural Network\r",
    "The following cell contains  the neural network architecture in the `CauchyEulerNN` class. This model consists of:\r\n",
    "- An input layer.\r\n",
    "- Three hidden layers, each followed by a Tanh activation function.\r\n",
    "- An output layer that provides the predicted `y` value based on the input `.\r\n",
    "\r\n"
   ]
  },
  {
   "cell_type": "code",
   "execution_count": 6,
   "id": "d020e421-8d04-4d67-b186-26f86904fe4d",
   "metadata": {},
   "outputs": [],
   "source": [
    "class CauchyEulerNN(nn.Module):\n",
    "    def __init__(self, input_dim=1, hidden_dim=64, output_dim=1):\n",
    "        super(CauchyEulerNN, self).__init__()\n",
    "        self.net = nn.Sequential(\n",
    "            nn.Linear(input_dim, hidden_dim),\n",
    "            nn.Tanh(),\n",
    "            nn.Linear(hidden_dim, hidden_dim),\n",
    "            nn.Tanh(),\n",
    "            nn.Linear(hidden_dim, hidden_dim),\n",
    "            nn.Tanh(),\n",
    "            nn.Linear(hidden_dim, output_dim)\n",
    "        )\n",
    "\n",
    "    def forward(self, x):\n",
    "        return self.net(x)"
   ]
  },
  {
   "cell_type": "markdown",
   "id": "6171f4e9-10b3-485c-8e7d-2830438fdacf",
   "metadata": {},
   "source": [
    "## Initializing the Model\r\n",
    "In this cell, an instance of our `CauchyEulerNN` modelis initialized  and movdt to th  devic)\r\n"
   ]
  },
  {
   "cell_type": "code",
   "execution_count": 7,
   "id": "2e783f9a-7ca7-46d6-8136-48c0a5142553",
   "metadata": {},
   "outputs": [
    {
     "name": "stdout",
     "output_type": "stream",
     "text": [
      "CauchyEulerNN(\n",
      "  (net): Sequential(\n",
      "    (0): Linear(in_features=1, out_features=64, bias=True)\n",
      "    (1): Tanh()\n",
      "    (2): Linear(in_features=64, out_features=64, bias=True)\n",
      "    (3): Tanh()\n",
      "    (4): Linear(in_features=64, out_features=64, bias=True)\n",
      "    (5): Tanh()\n",
      "    (6): Linear(in_features=64, out_features=1, bias=True)\n",
      "  )\n",
      ")\n"
     ]
    }
   ],
   "source": [
    "model = CauchyEulerNN().to(device)\n",
    "print(model)"
   ]
  },
  {
   "cell_type": "markdown",
   "id": "9a92ebc1-bf01-4654-bf85-91e8ca34a0d7",
   "metadata": {},
   "source": [
    "## Defining Loss Function and Optimizer\r",
    "Tthe loss functionis defined  as Mean Squared Error (MSE) and the Adam optimizeris used  for updating the model weights during training\r\n"
   ]
  },
  {
   "cell_type": "code",
   "execution_count": 8,
   "id": "eeee12d1-a387-4f15-82ab-8b6aad8e1e54",
   "metadata": {},
   "outputs": [],
   "source": [
    "loss_fn = nn.MSELoss()\n",
    "optimizer = optim.Adam(model.parameters(), lr=0.001)"
   ]
  },
  {
   "cell_type": "markdown",
   "id": "5caef2f4-88f2-46d9-85d4-1b78e2ae95b1",
   "metadata": {},
   "source": [
    "## Training parameters\r\n",
    "Here, we define the number of epochs and batch size\r\n"
   ]
  },
  {
   "cell_type": "code",
   "execution_count": 9,
   "id": "86d1a386-d8c1-4f4b-96f0-67bdfb97685c",
   "metadata": {},
   "outputs": [],
   "source": [
    "epochs = 5000\n",
    "batch_size = 128"
   ]
  },
  {
   "cell_type": "markdown",
   "id": "80f30bbb-7e30-405d-90cb-d877be95a889",
   "metadata": {},
   "source": [
    "# Training Loop\n",
    "In this cell, the training loop for our model is implemented. During each epoch, \n",
    "1. The model is set to training mode.\n",
    "2. Iterations are done through the training data in batches.\n",
    "3. A forward pass is performed to get predictions.\n",
    "4. The loss is calculated.\n",
    "5. A backward pass is performed and the model weights are updated.\n",
    "6. The average loss is printed every 100 epochs.\n"
   ]
  },
  {
   "cell_type": "code",
   "execution_count": 10,
   "id": "9dc464d0-8d18-418a-959e-e1714c1e96c1",
   "metadata": {},
   "outputs": [
    {
     "name": "stdout",
     "output_type": "stream",
     "text": [
      "Epoch [100/5000], Loss: 0.006206\n",
      "Epoch [200/5000], Loss: 0.006140\n",
      "Epoch [300/5000], Loss: 0.006239\n",
      "Epoch [400/5000], Loss: 0.006015\n",
      "Epoch [500/5000], Loss: 0.006167\n",
      "Epoch [600/5000], Loss: 0.005924\n",
      "Epoch [700/5000], Loss: 0.005991\n",
      "Epoch [800/5000], Loss: 0.006060\n",
      "Epoch [900/5000], Loss: 0.005783\n",
      "Epoch [1000/5000], Loss: 0.005875\n",
      "Epoch [1100/5000], Loss: 0.005741\n",
      "Epoch [1200/5000], Loss: 0.005826\n",
      "Epoch [1300/5000], Loss: 0.005716\n",
      "Epoch [1400/5000], Loss: 0.005528\n",
      "Epoch [1500/5000], Loss: 0.005506\n",
      "Epoch [1600/5000], Loss: 0.005497\n",
      "Epoch [1700/5000], Loss: 0.005397\n",
      "Epoch [1800/5000], Loss: 0.005373\n",
      "Epoch [1900/5000], Loss: 0.005352\n",
      "Epoch [2000/5000], Loss: 0.005289\n",
      "Epoch [2100/5000], Loss: 0.004856\n",
      "Epoch [2200/5000], Loss: 0.003142\n",
      "Epoch [2300/5000], Loss: 0.002641\n",
      "Epoch [2400/5000], Loss: 0.002114\n",
      "Epoch [2500/5000], Loss: 0.000111\n",
      "Epoch [2600/5000], Loss: 0.000092\n",
      "Epoch [2700/5000], Loss: 0.000116\n",
      "Epoch [2800/5000], Loss: 0.000090\n",
      "Epoch [2900/5000], Loss: 0.000078\n",
      "Epoch [3000/5000], Loss: 0.000140\n",
      "Epoch [3100/5000], Loss: 0.000071\n",
      "Epoch [3200/5000], Loss: 0.000054\n",
      "Epoch [3300/5000], Loss: 0.000073\n",
      "Epoch [3400/5000], Loss: 0.000122\n",
      "Epoch [3500/5000], Loss: 0.000056\n",
      "Epoch [3600/5000], Loss: 0.000051\n",
      "Epoch [3700/5000], Loss: 0.000051\n",
      "Epoch [3800/5000], Loss: 0.000069\n",
      "Epoch [3900/5000], Loss: 0.000032\n",
      "Epoch [4000/5000], Loss: 0.000040\n",
      "Epoch [4100/5000], Loss: 0.000073\n",
      "Epoch [4200/5000], Loss: 0.000044\n",
      "Epoch [4300/5000], Loss: 0.000034\n",
      "Epoch [4400/5000], Loss: 0.000049\n",
      "Epoch [4500/5000], Loss: 0.000039\n",
      "Epoch [4600/5000], Loss: 0.000044\n",
      "Epoch [4700/5000], Loss: 0.000032\n",
      "Epoch [4800/5000], Loss: 0.000034\n",
      "Epoch [4900/5000], Loss: 0.000025\n",
      "Epoch [5000/5000], Loss: 0.000038\n"
     ]
    }
   ],
   "source": [
    "# Initializing a list to store loss values\n",
    "loss_values = []\n",
    "\n",
    "# This is the training loop\n",
    "for epoch in range(epochs):\n",
    "    #model set to train mode\n",
    "    model.train()\n",
    "    running_loss = 0.0\n",
    "    for x_batch, y_batch in train_loader:\n",
    "        # Forward pass\n",
    "        y_pred = model(x_batch)\n",
    "\n",
    "        # Compute loss\n",
    "        loss = loss_fn(y_pred, y_batch)\n",
    "\n",
    "        # Backward pass and optimization\n",
    "        optimizer.zero_grad()\n",
    "        loss.backward()\n",
    "        optimizer.step()\n",
    "\n",
    "        # Track running loss\n",
    "        running_loss += loss.item()\n",
    "\n",
    "    # Calculating average loss for the epoch\n",
    "    avg_loss = running_loss / len(train_loader)\n",
    "    loss_values.append(avg_loss)  # Store the loss value\n",
    "\n",
    "    # Printing average loss every 100 epochs\n",
    "    if (epoch + 1) % 100 == 0:\n",
    "        print(f\"Epoch [{epoch + 1}/{epochs}], Loss: {avg_loss:.6f}\")"
   ]
  },
  {
   "cell_type": "markdown",
   "id": "7cba9e12-50dd-4fa0-965f-909c1422d829",
   "metadata": {},
   "source": [
    "## Gathering all Predictions for Testing\r\n",
    "After training is complete  the modelis switched  to evaluation mode and predictions for the test datase are gatheredt The  predictionsare then compared  against the true values to calculate our accuracy metrics\r\n"
   ]
  },
  {
   "cell_type": "code",
   "execution_count": 11,
   "id": "682d2500-b288-4272-85c0-a992d7776af9",
   "metadata": {},
   "outputs": [],
   "source": [
    "# Setting the model to evaluation mode\n",
    "model.eval()  \n",
    "with torch.no_grad():\n",
    "    x_test_vals = test_dataset.dataset.x[test_dataset.indices].cpu().numpy()\n",
    "    y_test_true = test_dataset.dataset.y[test_dataset.indices].cpu().numpy()\n",
    "    y_test_pred = model(torch.tensor(x_test_vals, dtype=torch.float32).unsqueeze(1).to(device)).cpu().numpy()"
   ]
  },
  {
   "cell_type": "markdown",
   "id": "c42e5cba-f11f-49c5-b476-0078420fe88a",
   "metadata": {},
   "source": [
    "## Calculating Accuracy Metrics\r",
    "Vvarious metrics to evaluate the model's performanceare calculated  on the test set:\r\n",
    "- Mean Squared Error (MSE)\r\n",
    "- Mean Absolute Error (MAE)\r\n",
    "- R-squared (R²) score\r\n",
    "Finarint the results of these me are printedtrics.\r\n"
   ]
  },
  {
   "cell_type": "code",
   "execution_count": 12,
   "id": "c37f3d12-96b2-443e-bc1c-052f61ac8e04",
   "metadata": {},
   "outputs": [
    {
     "name": "stdout",
     "output_type": "stream",
     "text": [
      "Test Mean Squared Error: 0.021086\n",
      "Mean Squared Error: 0.000639\n",
      "Mean Absolute Error: 0.006571\n",
      "R-squared: 0.946823\n"
     ]
    }
   ],
   "source": [
    "# Calculating Mean Squared Error for accuracy\n",
    "accuracy = np.mean((y_test_true - y_test_pred) ** 2)\n",
    "print(f\"Test Mean Squared Error: {accuracy:.6f}\")\n",
    "\n",
    "from sklearn.metrics import mean_squared_error, mean_absolute_error, r2_score\n",
    "\n",
    "mse = mean_squared_error(y_test_true, y_test_pred)\n",
    "mae = mean_absolute_error(y_test_true, y_test_pred)\n",
    "r_squared = r2_score(y_test_true, y_test_pred)\n",
    "\n",
    "print(f\"Mean Squared Error: {mse:.6f}\")\n",
    "print(f\"Mean Absolute Error: {mae:.6f}\")\n",
    "print(f\"R-squared: {r_squared:.6f}\")"
   ]
  },
  {
   "cell_type": "markdown",
   "id": "a1d1e9d1-6987-4bfa-aa58-70532238da31",
   "metadata": {},
   "source": [
    "## Plotting Loss Function\r\n",
    "After training is complete, the collected loss values against the number of epochsare plotted  to visualize how the loss decreased over time. This helpstos understand the model's learning process\r\n"
   ]
  },
  {
   "cell_type": "code",
   "execution_count": 13,
   "id": "d25aecf1-af3b-483d-ba6c-d6db69ef7cde",
   "metadata": {},
   "outputs": [
    {
     "data": {
      "image/png": "[encoded data removed]",
      "text/plain": [
       "<Figure size 1000x500 with 1 Axes>"
      ]
     },
     "metadata": {},
     "output_type": "display_data"
    }
   ],
   "source": [
    "# Plotting the loss function\n",
    "plt.figure(figsize=(10, 5))\n",
    "plt.plot(range(1, epochs + 1), loss_values, color='blue', label='Training Loss')\n",
    "plt.title('Loss Function Over Epochs')\n",
    "plt.xlabel('Epochs')\n",
    "plt.ylabel('Loss')\n",
    "plt.legend()\n",
    "plt.grid(True)\n",
    "plt.show()"
   ]
  }
 ],
 "metadata": {
  "kernelspec": {
   "display_name": "Python 3 (ipykernel)",
   "language": "python",
   "name": "python3"
  },
  "language_info": {
   "codemirror_mode": {
    "name": "ipython",
    "version": 3
   },
   "file_extension": ".py",
   "mimetype": "text/x-python",
   "name": "python",
   "nbconvert_exporter": "python",
   "pygments_lexer": "ipython3",
   "version": "3.12.4"
  }
 },
 "nbformat": 4,
 "nbformat_minor": 5
}
